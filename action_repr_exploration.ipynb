{
 "cells": [
  {
   "cell_type": "code",
   "execution_count": 1,
   "id": "85811951",
   "metadata": {
    "pycharm": {
     "name": "#%%\n"
    }
   },
   "outputs": [],
   "source": [
    "import sys,os,os.path\n",
    "os.environ['NEO4J_BOLT_URL']='bolt://localhost:7687'\n",
    "os.environ['NEO_PASS']='rl123456'\n",
    "os.environ['NEO_USER']='neo4j'"
   ]
  },
  {
   "cell_type": "code",
   "execution_count": 2,
   "id": "2c27969d",
   "metadata": {
    "pycharm": {
     "name": "#%%\n"
    }
   },
   "outputs": [],
   "source": [
    "import argparse\n",
    "import os\n",
    "import torch\n",
    "import time\n",
    "\n",
    "from memory_graph.memory_utils import WorkingMemory, ConceptSpaceGDS\n",
    "\n",
    "from torch import optim\n",
    "from torch.autograd import Variable\n",
    "from torch.nn import functional as F\n",
    "from torch.utils import data\n",
    "from tqdm import tqdm"
   ]
  },
  {
   "cell_type": "code",
   "execution_count": 4,
   "id": "19e3bcc5",
   "metadata": {},
   "outputs": [
    {
     "name": "stdout",
     "output_type": "stream",
     "text": [
      "2.4.3\n"
     ]
    }
   ],
   "source": [
    "wm = WorkingMemory(which_db=\"afftest\")\n",
    "name = wm.create_query_graph('afftest', 'ActionRepr', ['val'])\n",
    "clusters = wm.compute_action_clusters(f'\"{name}\"', use_best_k=False)"
   ]
  },
  {
   "cell_type": "code",
   "execution_count": 5,
   "id": "004d2339",
   "metadata": {
    "pycharm": {
     "name": "#%%\n"
    }
   },
   "outputs": [
    {
     "data": {
      "text/html": [
       "<div>\n",
       "<style scoped>\n",
       "    .dataframe tbody tr th:only-of-type {\n",
       "        vertical-align: middle;\n",
       "    }\n",
       "\n",
       "    .dataframe tbody tr th {\n",
       "        vertical-align: top;\n",
       "    }\n",
       "\n",
       "    .dataframe thead th {\n",
       "        text-align: right;\n",
       "    }\n",
       "</style>\n",
       "<table border=\"1\" class=\"dataframe\">\n",
       "  <thead>\n",
       "    <tr style=\"text-align: right;\">\n",
       "      <th></th>\n",
       "      <th>otype</th>\n",
       "      <th>communityId</th>\n",
       "      <th>distanceFromCentroid</th>\n",
       "    </tr>\n",
       "  </thead>\n",
       "  <tbody>\n",
       "    <tr>\n",
       "      <th>0</th>\n",
       "      <td>ramp</td>\n",
       "      <td>0</td>\n",
       "      <td>6.874344e-11</td>\n",
       "    </tr>\n",
       "    <tr>\n",
       "      <th>1</th>\n",
       "      <td>ramp</td>\n",
       "      <td>0</td>\n",
       "      <td>1.412173e-10</td>\n",
       "    </tr>\n",
       "    <tr>\n",
       "      <th>2</th>\n",
       "      <td>ramp</td>\n",
       "      <td>0</td>\n",
       "      <td>1.902235e-10</td>\n",
       "    </tr>\n",
       "    <tr>\n",
       "      <th>3</th>\n",
       "      <td>trampoline</td>\n",
       "      <td>0</td>\n",
       "      <td>6.744267e-11</td>\n",
       "    </tr>\n",
       "    <tr>\n",
       "      <th>4</th>\n",
       "      <td>trampoline</td>\n",
       "      <td>0</td>\n",
       "      <td>6.744267e-11</td>\n",
       "    </tr>\n",
       "    <tr>\n",
       "      <th>...</th>\n",
       "      <td>...</td>\n",
       "      <td>...</td>\n",
       "      <td>...</td>\n",
       "    </tr>\n",
       "    <tr>\n",
       "      <th>326</th>\n",
       "      <td>trampoline</td>\n",
       "      <td>10</td>\n",
       "      <td>1.850988e-11</td>\n",
       "    </tr>\n",
       "    <tr>\n",
       "      <th>327</th>\n",
       "      <td>trampoline</td>\n",
       "      <td>10</td>\n",
       "      <td>1.850988e-11</td>\n",
       "    </tr>\n",
       "    <tr>\n",
       "      <th>328</th>\n",
       "      <td>trampoline</td>\n",
       "      <td>10</td>\n",
       "      <td>1.850988e-11</td>\n",
       "    </tr>\n",
       "    <tr>\n",
       "      <th>329</th>\n",
       "      <td>wall</td>\n",
       "      <td>10</td>\n",
       "      <td>9.943085e-11</td>\n",
       "    </tr>\n",
       "    <tr>\n",
       "      <th>330</th>\n",
       "      <td>wall</td>\n",
       "      <td>10</td>\n",
       "      <td>1.021599e-10</td>\n",
       "    </tr>\n",
       "  </tbody>\n",
       "</table>\n",
       "<p>331 rows × 3 columns</p>\n",
       "</div>"
      ],
      "text/plain": [
       "          otype  communityId  distanceFromCentroid\n",
       "0          ramp            0          6.874344e-11\n",
       "1          ramp            0          1.412173e-10\n",
       "2          ramp            0          1.902235e-10\n",
       "3    trampoline            0          6.744267e-11\n",
       "4    trampoline            0          6.744267e-11\n",
       "..          ...          ...                   ...\n",
       "326  trampoline           10          1.850988e-11\n",
       "327  trampoline           10          1.850988e-11\n",
       "328  trampoline           10          1.850988e-11\n",
       "329        wall           10          9.943085e-11\n",
       "330        wall           10          1.021599e-10\n",
       "\n",
       "[331 rows x 3 columns]"
      ]
     },
     "execution_count": 5,
     "metadata": {},
     "output_type": "execute_result"
    }
   ],
   "source": [
    "clusters"
   ]
  },
  {
   "cell_type": "code",
   "execution_count": 25,
   "id": "2fdc121a",
   "metadata": {
    "pycharm": {
     "name": "#%%\n"
    }
   },
   "outputs": [],
   "source": [
    "dfs=[]\n",
    "maxs=[]\n",
    "for i in range(11):\n",
    "    dfs.append(clusters[clusters['communityId']==i]['otype'].value_counts().to_frame())\n",
    "    maxs.append(clusters[clusters['communityId']==i]['otype'].value_counts().idxmax())\n",
    "\n",
    "    "
   ]
  },
  {
   "cell_type": "code",
   "execution_count": 26,
   "id": "dbc2813c",
   "metadata": {
    "pycharm": {
     "name": "#%%\n"
    }
   },
   "outputs": [
    {
     "data": {
      "text/plain": [
       "['wall',\n",
       " 'belt',\n",
       " 'box',\n",
       " 'cannon',\n",
       " 'medium_floor',\n",
       " 'wall',\n",
       " 'floor',\n",
       " 'ramp',\n",
       " 'see_saw',\n",
       " 'bucket',\n",
       " 'trampoline']"
      ]
     },
     "execution_count": 26,
     "metadata": {},
     "output_type": "execute_result"
    }
   ],
   "source": [
    "maxs"
   ]
  },
  {
   "cell_type": "code",
   "execution_count": 27,
   "id": "19468d17",
   "metadata": {},
   "outputs": [
    {
     "data": {
      "text/plain": [
       "[            otype\n",
       " wall            6\n",
       " ramp            3\n",
       " trampoline      3,\n",
       "               otype\n",
       " belt              9\n",
       " trampoline        6\n",
       " ramp              4\n",
       " box               3\n",
       " bucket            2\n",
       " medium_floor      1,\n",
       "          otype\n",
       " box         15\n",
       " cannon       9\n",
       " belt         6\n",
       " bucket       6\n",
       " ladder       4\n",
       " see_saw      2,\n",
       "             otype\n",
       " cannon          8\n",
       " floor           7\n",
       " ladder          6\n",
       " belt            5\n",
       " trampoline      4\n",
       " box             3\n",
       " see_saw         2\n",
       " bucket          1,\n",
       "               otype\n",
       " medium_floor     10\n",
       " bucket            5\n",
       " belt              3\n",
       " floor             1,\n",
       "               otype\n",
       " wall              9\n",
       " medium_floor      5\n",
       " trampoline        3\n",
       " ramp              2,\n",
       "               otype\n",
       " floor             7\n",
       " wall              5\n",
       " medium_floor      4\n",
       " ramp              4\n",
       " trampoline        4\n",
       " ladder            3\n",
       " see_saw           3\n",
       " belt              2\n",
       " box               1\n",
       " bucket            1,\n",
       "               otype\n",
       " ramp             11\n",
       " wall              8\n",
       " medium_floor      4\n",
       " bucket            1\n",
       " ladder            1\n",
       " see_saw           1,\n",
       "          otype\n",
       " see_saw     22\n",
       " cannon      13\n",
       " floor       12\n",
       " box          8\n",
       " bucket       8\n",
       " ladder       7\n",
       " ramp         1,\n",
       "             otype\n",
       " bucket          4\n",
       " belt            2\n",
       " ladder          2\n",
       " trampoline      2\n",
       " floor           1\n",
       " ramp            1,\n",
       "               otype\n",
       " trampoline        8\n",
       " ladder            7\n",
       " medium_floor      6\n",
       " belt              4\n",
       " ramp              4\n",
       " bucket            2\n",
       " floor             2\n",
       " wall              2]"
      ]
     },
     "execution_count": 27,
     "metadata": {},
     "output_type": "execute_result"
    }
   ],
   "source": [
    "dfs"
   ]
  },
  {
   "cell_type": "code",
   "execution_count": null,
   "id": "daa3ec9e",
   "metadata": {
    "pycharm": {
     "name": "#%%\n"
    }
   },
   "outputs": [],
   "source": [
    "clusters[clusters['communityId']==0]"
   ]
  },
  {
   "cell_type": "code",
   "execution_count": null,
   "id": "ca1482a9",
   "metadata": {},
   "outputs": [],
   "source": [
    "clusters[clusters['communityId']==0]"
   ]
  },
  {
   "cell_type": "code",
   "execution_count": null,
   "id": "3f04c353",
   "metadata": {},
   "outputs": [],
   "source": [
    "clusters[clusters['communityId']==0]"
   ]
  }
 ],
 "metadata": {
  "kernelspec": {
   "display_name": "Python 3 (ipykernel)",
   "language": "python",
   "name": "python3"
  },
  "language_info": {
   "codemirror_mode": {
    "name": "ipython",
    "version": 3
   },
   "file_extension": ".py",
   "mimetype": "text/x-python",
   "name": "python",
   "nbconvert_exporter": "python",
   "pygments_lexer": "ipython3",
   "version": "3.8.5"
  }
 },
 "nbformat": 4,
 "nbformat_minor": 5
}
